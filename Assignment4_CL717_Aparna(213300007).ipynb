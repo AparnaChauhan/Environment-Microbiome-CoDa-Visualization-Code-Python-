{
  "nbformat": 4,
  "nbformat_minor": 0,
  "metadata": {
    "colab": {
      "name": "Assignment4_CL717_Aparna(213300007).ipynb",
      "provenance": [],
      "collapsed_sections": [],
      "include_colab_link": true
    },
    "kernelspec": {
      "name": "python3",
      "display_name": "Python 3"
    },
    "language_info": {
      "name": "python"
    }
  },
  "cells": [
    {
      "cell_type": "markdown",
      "metadata": {
        "id": "view-in-github",
        "colab_type": "text"
      },
      "source": [
        "<a href=\"https://colab.research.google.com/github/AparnaChauhan/Environment-Microbiome-CoDa-Visualization-Code-Python-/blob/master/Assignment4_CL717_Aparna(213300007).ipynb\" target=\"_parent\"><img src=\"https://colab.research.google.com/assets/colab-badge.svg\" alt=\"Open In Colab\"/></a>"
      ]
    },
    {
      "cell_type": "code",
      "execution_count": null,
      "metadata": {
        "colab": {
          "base_uri": "https://localhost:8080/"
        },
        "id": "6ZUkejFxLcTP",
        "outputId": "7000d44e-5352-42cb-cd7f-71b4feb2d769"
      },
      "outputs": [
        {
          "output_type": "stream",
          "name": "stdout",
          "text": [
            "   Population_Size  Fixation_Prob\n",
            "0               10       0.109333\n",
            "1              100       0.023058\n",
            "2             1000       0.020000\n",
            "3            10000       0.020000\n",
            "4           100000       0.020000\n",
            "5          1000000       0.020000\n",
            "6         10000000       0.020000\n",
            "7        100000000       0.020000\n",
            "8       1000000000       0.020000\n"
          ]
        }
      ],
      "source": [
        "import pandas as pd\n",
        "import matplotlib.pyplot as plt\n",
        "x=[]\n",
        "y=[]\n",
        "alp=(0.98)\n",
        "b=(0.02)\n",
        "\n",
        "for i in range(1,10):\n",
        "  x.append(10**i)\n",
        "  w=(alp**(10**i))\n",
        "  y.append(b/(1-w))\n",
        "\n",
        "df = pd.DataFrame(list(zip(x, y)), columns =['Population_Size', 'Fixation_Prob'])\n",
        "print(df)"
      ]
    },
    {
      "cell_type": "code",
      "source": [
        "normalized_df=(df-df.min())/(df.max()-df.min())\n",
        "print(normalized_df)"
      ],
      "metadata": {
        "colab": {
          "base_uri": "https://localhost:8080/"
        },
        "id": "vjY4gOSbe-3z",
        "outputId": "c9acfd96-1333-41bd-cc12-341bad5b5e6c"
      },
      "execution_count": null,
      "outputs": [
        {
          "output_type": "stream",
          "name": "stdout",
          "text": [
            "   Population_Size  Fixation_Prob\n",
            "0     0.000000e+00   1.000000e+00\n",
            "1     9.000000e-08   3.423067e-02\n",
            "2     9.900000e-07   3.767846e-10\n",
            "3     9.990000e-06   0.000000e+00\n",
            "4     9.999000e-05   0.000000e+00\n",
            "5     9.999900e-04   0.000000e+00\n",
            "6     9.999990e-03   0.000000e+00\n",
            "7     9.999999e-02   0.000000e+00\n",
            "8     1.000000e+00   0.000000e+00\n"
          ]
        }
      ]
    },
    {
      "cell_type": "code",
      "source": [
        "print(x)\n",
        "print(y)\n",
        "plt.plot(x,y)\n",
        "plt.xlabel('Population Size')\n",
        "plt.ylabel('Fixation Probability (x1)')\n",
        "plt.show()"
      ],
      "metadata": {
        "colab": {
          "base_uri": "https://localhost:8080/",
          "height": 314
        },
        "id": "KNUnAdO5cTAC",
        "outputId": "2c0e5451-eab9-4fdf-8b59-ad091b09ad8c"
      },
      "execution_count": null,
      "outputs": [
        {
          "output_type": "stream",
          "name": "stdout",
          "text": [
            "[10, 100, 1000, 10000, 100000, 1000000, 10000000, 100000000, 1000000000]\n",
            "[0.10933311586815378, 0.023057932808977673, 0.020000000033659347, 0.02, 0.02, 0.02, 0.02, 0.02, 0.02]\n"
          ]
        },
        {
          "output_type": "display_data",
          "data": {
            "image/png": "[encoded data removed]",
            "text/plain": [
              "<Figure size 432x288 with 1 Axes>"
            ]
          },
          "metadata": {
            "needs_background": "light"
          }
        }
      ]
    },
    {
      "cell_type": "code",
      "source": [
        "plt.plot(normalized_df.iloc[:, 0], normalized_df.iloc[:, 1])\n",
        "plt.show()"
      ],
      "metadata": {
        "colab": {
          "base_uri": "https://localhost:8080/",
          "height": 265
        },
        "id": "4vqjzBhTfUr0",
        "outputId": "ee4615c0-3d30-4333-b25b-1ee94e21685d"
      },
      "execution_count": null,
      "outputs": [
        {
          "output_type": "display_data",
          "data": {
            "image/png": "[encoded data removed]",
            "text/plain": [
              "<Figure size 432x288 with 1 Axes>"
            ]
          },
          "metadata": {
            "needs_background": "light"
          }
        }
      ]
    },
    {
      "cell_type": "code",
      "source": [
        "x1 = [1000, 2000, 3000, 4000, 5000, 6000, 7000, 8000, 9000, 10000]\n",
        "y1 = []\n",
        "alp=(0.98)\n",
        "b=(0.02)\n",
        "\n",
        "for i in range(0,10):\n",
        "  #x.append(10**i)\n",
        "  w1=(alp**(x1[i]))\n",
        "  y1.append(b/(1-w1))\n",
        "print(x1, y1)\n",
        "plt.plot(x1,y1)\n",
        "plt.xlabel('Population Size')\n",
        "plt.ylabel('Fixation Probability (x1)')\n",
        "plt.show()"
      ],
      "metadata": {
        "colab": {
          "base_uri": "https://localhost:8080/",
          "height": 327
        },
        "id": "Cp5VUE17fcwO",
        "outputId": "a85edaa7-4969-4b0f-dbb3-ec3ac51b2e12"
      },
      "execution_count": null,
      "outputs": [
        {
          "output_type": "stream",
          "name": "stdout",
          "text": [
            "[1000, 2000, 3000, 4000, 5000, 6000, 7000, 8000, 9000, 10000] [0.020000000033659347, 0.02, 0.02, 0.02, 0.02, 0.02, 0.02, 0.02, 0.02, 0.02]\n"
          ]
        },
        {
          "output_type": "display_data",
          "data": {
            "image/png": "[encoded data removed]",
            "text/plain": [
              "<Figure size 432x288 with 1 Axes>"
            ]
          },
          "metadata": {
            "needs_background": "light"
          }
        }
      ]
    },
    {
      "cell_type": "code",
      "source": [
        "x2 = [1100, 1200, 1300, 1400, 1500, 1600, 1700, 1800, 1900, 2000]\n",
        "y2 = []\n",
        "alp=(0.98)\n",
        "b=(0.02)\n",
        "\n",
        "for i in range(0,10):\n",
        "  #x.append(10**i)\n",
        "  w2=(alp**(x2[i]))\n",
        "  y2.append(b/(1-w2))\n",
        "print(x2, y2)\n",
        "plt.plot(x2,y2)\n",
        "plt.xlabel('Population Size')\n",
        "plt.ylabel('Fixation Probability (x1)')\n",
        "plt.show()"
      ],
      "metadata": {
        "colab": {
          "base_uri": "https://localhost:8080/",
          "height": 327
        },
        "id": "stjWMNrPibJ9",
        "outputId": "8af360a5-69a4-4b67-d810-f80cf6de677f"
      },
      "execution_count": null,
      "outputs": [
        {
          "output_type": "stream",
          "name": "stdout",
          "text": [
            "[1100, 1200, 1300, 1400, 1500, 1600, 1700, 1800, 1900, 2000] [0.020000000004463888, 0.020000000000592, 0.02000000000007851, 0.020000000000010412, 0.02000000000000138, 0.02000000000000018, 0.020000000000000025, 0.020000000000000004, 0.02, 0.02]\n"
          ]
        },
        {
          "output_type": "display_data",
          "data": {
            "image/png": "[encoded data removed]",
            "text/plain": [
              "<Figure size 432x288 with 1 Axes>"
            ]
          },
          "metadata": {
            "needs_background": "light"
          }
        }
      ]
    },
    {
      "cell_type": "code",
      "source": [
        "x3 = [1100, 1120, 1140, 1160, 1180, 1200, 1220, 1240, 1260, 1280]\n",
        "y3 = []\n",
        "alp=(0.98)\n",
        "b=(0.02)\n",
        "\n",
        "for i in range(0,10):\n",
        "  #x.append(10**i)\n",
        "  w3=(alp**(x3[i]))\n",
        "  y3.append(b/(1-w3))\n",
        "print(x3, y3)\n",
        "plt.plot(x3,y3)\n",
        "plt.xlabel('Population Size')\n",
        "plt.ylabel('Fixation Probability (x1)')\n",
        "plt.show()"
      ],
      "metadata": {
        "colab": {
          "base_uri": "https://localhost:8080/",
          "height": 327
        },
        "id": "qbWpowQ3j5pt",
        "outputId": "4a0f9a74-5f85-4875-ea02-a304317149d0"
      },
      "execution_count": null,
      "outputs": [
        {
          "output_type": "stream",
          "name": "stdout",
          "text": [
            "[1100, 1120, 1140, 1160, 1180, 1200, 1220, 1240, 1260, 1280] [0.020000000004463888, 0.020000000002980127, 0.020000000001989558, 0.020000000001328243, 0.020000000000886746, 0.020000000000592, 0.020000000000395226, 0.020000000000263855, 0.02000000000017615, 0.0200000000001176]\n"
          ]
        },
        {
          "output_type": "display_data",
          "data": {
            "image/png": "[encoded data removed]",
            "text/plain": [
              "<Figure size 432x288 with 1 Axes>"
            ]
          },
          "metadata": {
            "needs_background": "light"
          }
        }
      ]
    },
    {
      "cell_type": "code",
      "source": [
        ""
      ],
      "metadata": {
        "id": "zAgZtx0Ekhw9"
      },
      "execution_count": null,
      "outputs": []
    }
  ]
}